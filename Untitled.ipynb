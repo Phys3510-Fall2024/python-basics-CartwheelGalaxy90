{
 "cells": [
  {
   "cell_type": "markdown",
   "id": "4e1ff132-d287-4307-a349-f095119b2a31",
   "metadata": {},
   "source": [
    "### 2. Floating-Point (`float`)\n",
    "- Numbers with decimals, e.g., `3.14`, `-2.5`.\n",
    "- Operations: Same as `int`, but with decimal precision.\n",
    "- Special values: `float('inf')`, `float('-inf')`, `float('nan')`."
   ]
  },
  {
   "cell_type": "code",
   "execution_count": null,
   "id": "107ae5a5-571a-45d4-990c-2e7911321e98",
   "metadata": {},
   "outputs": [],
   "source": [
    "# Example of floats and basic operations\n",
    "x, y = 3.14, 2.71\n",
    "print(\"Addition:\", x + y)\n",
    "print(\"Subtraction:\", x - y)\n",
    "print(\"Multiplication:\", x * y)\n",
    "print(\"Division:\", x / y)"
   ]
  },
  {
   "cell_type": "code",
   "execution_count": null,
   "id": "21c9c429-a5c1-4519-8d39-22817503be25",
   "metadata": {},
   "outputs": [],
   "source": [
    "float('inf')"
   ]
  }
 ],
 "metadata": {
  "kernelspec": {
   "display_name": "Python 3 (ipykernel)",
   "language": "python",
   "name": "python3"
  },
  "language_info": {
   "codemirror_mode": {
    "name": "ipython",
    "version": 3
   },
   "file_extension": ".py",
   "mimetype": "text/x-python",
   "name": "python",
   "nbconvert_exporter": "python",
   "pygments_lexer": "ipython3",
   "version": "3.9.19"
  }
 },
 "nbformat": 4,
 "nbformat_minor": 5
}
