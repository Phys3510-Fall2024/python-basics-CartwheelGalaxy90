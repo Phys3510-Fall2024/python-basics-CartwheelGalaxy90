{
 "cells": [
  {
   "attachments": {},
   "cell_type": "markdown",
   "id": "267277af-b990-45b7-9866-0845fbdaeb55",
   "metadata": {},
   "source": [
    "## 1. Basic Arithmetic Operations in Python\n",
    "\n",
    "\n",
    "Python provides several native operations that you will use frequently. In this section, you will practice the following operations:\n",
    "\n",
    "\n",
    "- Addition (`+`)\n",
    "- Subtraction (`-`)\n",
    "- Multiplication (`*`)\n",
    "- Division (`/`)\n",
    "- Exponentiation (`**`)\n",
    "\n",
    "\n",
    "There are also a few less common operations that you might see:\n",
    "\n",
    "\n",
    "- Modulus (`%`)\n",
    "- Floor Division (`//`)\n"
   ]
  },
  {
   "attachments": {},
   "cell_type": "markdown",
   "id": "cdf6eadd-8451-4e51-8183-fadaec0ace02",
   "metadata": {},
   "source": [
    "### Task:\n",
    "\n",
    "\n",
    "1. Create variables `a` and `b` with values of your choice.\n",
    "2. Perform each of the above operations using `a` and `b`.\n",
    "3. Print the results.\n"
   ]
  },
  {
   "cell_type": "code",
   "execution_count": 1,
   "id": "b63c14b6-9de8-4f2f-bbda-615cdd13893e",
   "metadata": {},
   "outputs": [
    {
     "name": "stdout",
     "output_type": "stream",
     "text": [
      "Addition: 13.2\n"
     ]
    }
   ],
   "source": [
    "a = 10.2\n",
    "b = 3\n",
    "\n",
    "# Example:\n",
    "addition = a + b\n",
    "print(f\"Addition: {addition}\")\n",
    "# Repeat for other operations"
   ]
  },
  {
   "cell_type": "code",
   "execution_count": 9,
   "id": "ee04144b-85ef-46d0-81da-71b5aafef608",
   "metadata": {},
   "outputs": [
    {
     "name": "stdout",
     "output_type": "stream",
     "text": [
      "Addition: 12.6\n",
      "Subtraction: 4.6\n",
      "Multiplication: 34.4\n",
      "Division: 2.15\n",
      "Exponentiation: 5470.0815999999995\n",
      "Modulus: 0.5999999999999996\n",
      "Floor Division: 2.0\n"
     ]
    }
   ],
   "source": [
    "a = 8.6\n",
    "b = 4\n",
    "\n",
    "addition = a + b\n",
    "print(f\"Addition: {addition}\")\n",
    "\n",
    "subtraction = a - b\n",
    "print(f\"Subtraction: {subtraction}\")\n",
    "\n",
    "multiplication = a * b\n",
    "print(f\"Multiplication: {multiplication}\")\n",
    "\n",
    "division = a / b\n",
    "print(f\"Division: {division}\")\n",
    "\n",
    "exponentiation = a ** b\n",
    "print(f\"Exponentiation: {exponentiation}\")\n",
    "\n",
    "modulus = a % b\n",
    "print(f\"Modulus: {modulus}\")\n",
    "\n",
    "floor_division = a//b\n",
    "print(f\"Floor Division: {floor_division}\")"
   ]
  },
  {
   "attachments": {},
   "cell_type": "markdown",
   "id": "a3f35134-51cc-41a7-9069-4d86efe8cd20",
   "metadata": {},
   "source": [
    "## 2. Variable Assignment and Manipulation\n",
    "\n",
    "\n",
    "Variables in Python are used to store data that can be reused and manipulated.\n",
    "Task:\n",
    "\n",
    "\n",
    "    Assign values to variables x, y, and z.\n",
    "    Reassign and manipulate these variables.\n",
    "    Explore the use of the semicolon (;) to write multiple statements on a single line.\n",
    "    Use the backslash (\\) to continue long lines of code.\n"
   ]
  },
  {
   "cell_type": "code",
   "execution_count": null,
   "id": "5eb4ec36",
   "metadata": {},
   "outputs": [],
   "source": [
    "x = 5\n",
    "y = 10\n",
    "z = x + y\n",
    "\n",
    "# Using semicolon\n",
    "a = 1; b = 2; c = a + b\n",
    "\n",
    "# Using backslash\n",
    "long_sum = x + y + z + a + b + c + \\\n",
    "           100 + 200 + 300\n",
    "long_sum"
   ]
  },
  {
   "cell_type": "code",
   "execution_count": 1,
   "id": "36d8310e-8e4e-4d99-aebb-b2d1b4196d78",
   "metadata": {},
   "outputs": [
    {
     "data": {
      "text/plain": [
       "7133"
      ]
     },
     "execution_count": 1,
     "metadata": {},
     "output_type": "execute_result"
    }
   ],
   "source": [
    "x = 33; y = 62; z = 123 #assign variables\n",
    "\n",
    "bag_count = x + y + z + y + \\\n",
    "1691 + 1781 + 1511 + 680 + 1190\n",
    "bag_count"
   ]
  },
  {
   "cell_type": "markdown",
   "id": "2faab7fd-d8c9-4c52-9ead-209ae6d61622",
   "metadata": {},
   "source": [
    "## 3. Numerical Types, Strings, and Type Checking\n",
    "\n",
    "**Numerical Types**\n",
    "\n",
    "### 1. Integer (`int`)\n",
    "- Whole numbers, e.g., `42`, `-10`.\n",
    "- Operations: `+`, `-`, `*`, `/` (float result), `//` (floor division), `%`, `**` (exponent).\n"
   ]
  },
  {
   "cell_type": "code",
   "execution_count": null,
   "id": "3658f79d-8526-41ef-bed3-71422948b322",
   "metadata": {},
   "outputs": [],
   "source": [
    "# Example of integers and basic operations\n",
    "a, b = 10, 3\n",
    "print(\"Addition:\", a + b)\n",
    "print(\"Subtraction:\", a - b)\n",
    "print(\"Multiplication:\", a * b)\n",
    "print(\"Division (float result):\", a / b)\n",
    "print(\"Floor Division:\", a // b)\n",
    "print(\"Modulus:\", a % b)\n",
    "print(\"Exponentiation:\", a ** b)"
   ]
  },
  {
   "cell_type": "code",
   "execution_count": 6,
   "id": "b2f532b5-ae28-40e3-826c-a2e01a82f8ce",
   "metadata": {},
   "outputs": [
    {
     "name": "stdout",
     "output_type": "stream",
     "text": [
      "Addition: 39\n",
      "Subtraction: 29\n",
      "Multiplication: 170\n",
      "Division (float result): 6.8\n",
      "Floor Division: 6\n",
      "Modulus: 4\n",
      "Exponentiation: 45435424\n"
     ]
    }
   ],
   "source": [
    "a, b = 34, 5\n",
    "print(\"Addition:\", a + b)\n",
    "print(\"Subtraction:\", a - b)\n",
    "print(\"Multiplication:\", a * b)\n",
    "print(\"Division (float result):\", a / b)\n",
    "print(\"Floor Division:\", a // b)\n",
    "print(\"Modulus:\", a % b)\n",
    "print(\"Exponentiation:\", a ** b)"
   ]
  },
  {
   "cell_type": "markdown",
   "id": "8f0c895d-4d7d-46fe-a254-cc2b9ec29401",
   "metadata": {},
   "source": [
    "### 2. Floating-Point (`float`)\n",
    "- Numbers with decimals, e.g., `3.14`, `-2.5`.\n",
    "- Operations: Same as `int`, but with decimal precision.\n",
    "- Special values: `float('inf')`, `float('-inf')`, `float('nan')`.\n"
   ]
  },
  {
   "cell_type": "code",
   "execution_count": 4,
   "id": "ca7dbab6-5210-45c4-8a51-bf8a6fea4fab",
   "metadata": {},
   "outputs": [
    {
     "name": "stdout",
     "output_type": "stream",
     "text": [
      "Addition: 5.85\n",
      "Subtraction: 0.43000000000000016\n",
      "Multiplication: 8.5094\n",
      "Division: 1.1586715867158672\n"
     ]
    }
   ],
   "source": [
    "# Example of floats and basic operations\n",
    "x, y = 3.14, 2.71\n",
    "print(\"Addition:\", x + y)\n",
    "print(\"Subtraction:\", x - y)\n",
    "print(\"Multiplication:\", x * y)\n",
    "print(\"Division:\", x / y)\n"
   ]
  },
  {
   "cell_type": "code",
   "execution_count": 5,
   "id": "006354b2-f83e-415a-bee3-72da0754dccd",
   "metadata": {},
   "outputs": [
    {
     "name": "stdout",
     "output_type": "stream",
     "text": [
      "Addition: 7.629999999999999\n",
      "Subtraction: 3.07\n",
      "Multiplication: 12.197999999999999\n",
      "Division: 2.3464912280701755\n",
      "Modulus: 0.79\n",
      "Exponentiation: 45.77692571737162\n"
     ]
    }
   ],
   "source": [
    "x, y = 5.35, 2.28  #assign variables\n",
    "print(\"Addition:\", x + y)\n",
    "print(\"Subtraction:\", x - y)\n",
    "print(\"Multiplication:\", x * y)\n",
    "print(\"Division:\", x / y)\n",
    "print(\"Modulus:\", x % y)\n",
    "print(\"Exponentiation:\", x ** y)"
   ]
  },
  {
   "cell_type": "markdown",
   "id": "b9c0444f-aad8-4c1a-a9f1-94377f52c545",
   "metadata": {},
   "source": [
    "### 3. Complex (`complex`)\n",
    "- Numbers with real and imaginary parts, e.g., `1 + 2j`.\n",
    "- Operations: `+`, `-`, `*`, `/`.\n",
    "- Access parts: `.real`, `.imag`, `.conjugate()`.\n"
   ]
  },
  {
   "cell_type": "code",
   "execution_count": null,
   "id": "a6fd9a70-7c00-433f-99a1-fd0257d698b0",
   "metadata": {},
   "outputs": [],
   "source": [
    "# Example of complex numbers and operations\n",
    "z1, z2 = 1 + 2j, 3 + 4j\n",
    "print(\"Addition:\", z1 + z2)\n",
    "print(\"Subtraction:\", z1 - z2)\n",
    "print(\"Multiplication:\", z1 * z2)\n",
    "print(\"Division:\", z1 / z2)\n",
    "print(\"Real part of z1:\", z1.real)\n",
    "print(\"Imaginary part of z1:\", z1.imag)\n",
    "print(\"Conjugate of z1:\", z1.conjugate())\n"
   ]
  },
  {
   "cell_type": "code",
   "execution_count": 6,
   "id": "78d7e5ca-3af4-4cf1-93d5-fe3dc2c0ad64",
   "metadata": {},
   "outputs": [
    {
     "name": "stdout",
     "output_type": "stream",
     "text": [
      "Addition: (7+7j)\n",
      "Subtraction: (-3+1j)\n",
      "Multiplication: (-2+26j)\n",
      "Division: (0.6470588235294118+0.4117647058823529j)\n",
      "Real part of z1: 2.0\n",
      "Imaginary part of z1: 4.0\n",
      "Conjugate of z1: (2-4j)\n"
     ]
    }
   ],
   "source": [
    "z1, z2 = 2 + 4j, 5 + 3j\n",
    "print(\"Addition:\", z1 + z2)\n",
    "print(\"Subtraction:\", z1 - z2)\n",
    "print(\"Multiplication:\", z1 * z2)\n",
    "print(\"Division:\", z1 / z2)\n",
    "print(\"Real part of z1:\", z1.real)\n",
    "print(\"Imaginary part of z1:\", z1.imag)\n",
    "print(\"Conjugate of z1:\", z1.conjugate())"
   ]
  },
  {
   "cell_type": "markdown",
   "id": "83bd0222-14ce-4dce-bd05-3de1eae4bbc3",
   "metadata": {},
   "source": [
    "**Strings and Type Checking**\n",
    "\n",
    "### 1. Strings (`str`)\n",
    "- Defined by enclosing text in single (`'`) or double (`\"`) quotes.\n",
    "- Example: `'This is a string.'`, `\"...so is this\"`.\n"
   ]
  },
  {
   "cell_type": "code",
   "execution_count": null,
   "id": "63592237-cbbb-4ff6-959f-748456efbc30",
   "metadata": {},
   "outputs": [],
   "source": [
    "# Example of defining a string\n",
    "s = \"This is a string\"\n",
    "print(s)\n"
   ]
  },
  {
   "cell_type": "markdown",
   "id": "e11e89d6-c684-44c5-b14c-de6f9bbf91b7",
   "metadata": {},
   "source": [
    "### 2. Type Checking\n",
    "- Use `type(variable)` to check the type of any variable.\n"
   ]
  },
  {
   "cell_type": "code",
   "execution_count": null,
   "id": "966addcb-ac11-449f-a820-6a2d796c9c14",
   "metadata": {},
   "outputs": [],
   "source": [
    "# Example of type checking\n",
    "a = 10\n",
    "b = 3.14\n",
    "c = 1 + 2j\n",
    "s = \"still a string\"\n",
    "\n",
    "print(\"Type of a:\", type(a))  # int\n",
    "print(\"Type of b:\", type(b))  # float\n",
    "print(\"Type of c:\", type(c))  # complex\n",
    "print(\"Type of s:\", type(s))  # str\n"
   ]
  },
  {
   "cell_type": "code",
   "execution_count": 7,
   "id": "56e082d4-881c-453d-8294-45fc3c706cda",
   "metadata": {},
   "outputs": [
    {
     "name": "stdout",
     "output_type": "stream",
     "text": [
      "Type of a: <class 'int'>\n",
      "Type of b: <class 'float'>\n",
      "Type of c: <class 'complex'>\n",
      "Type of s: <class 'str'>\n"
     ]
    }
   ],
   "source": [
    "a = 8\n",
    "b = 5.95\n",
    "c = 3 + 7j\n",
    "s = \"string example\"\n",
    "\n",
    "print(\"Type of a:\", type(a))  # int\n",
    "print(\"Type of b:\", type(b))  # float\n",
    "print(\"Type of c:\", type(c))  # complex\n",
    "print(\"Type of s:\", type(s))  # str"
   ]
  },
  {
   "attachments": {},
   "cell_type": "markdown",
   "id": "5560b12e-a754-49db-b525-cad703b1573e",
   "metadata": {},
   "source": [
    "## 4. Comparison and Logical Operators\n",
    "**Comparison Operators**\n",
    "\n",
    "\n",
    "Comparison operators are used to compare two values:\n",
    "\n",
    "\n",
    "    <: Less than\n",
    "    >: Greater than\n",
    "    ==: Equal to\n",
    "    !=: Not equal to\n",
    "    <=: Less than or equal to\n",
    "    >=: Greater than or equal to\n",
    "\n",
    "\n",
    "**Logical Operators**\n",
    "\n",
    "\n",
    "Logical operators combine multiple comparison expressions:\n",
    "\n",
    "\n",
    "    and: Returns True if both expressions are true.\n",
    "    or: Returns True if at least one expression is true.\n",
    "    not: Inverts the boolean value of an expression.\n",
    "\n",
    "\n",
    "Task:\n",
    "\n",
    "\n",
    "    Use comparison operators to evaluate conditions between two variables.\n",
    "    Combine these conditions using logical operators to create more complex expressions.\n"
   ]
  },
  {
   "cell_type": "code",
   "execution_count": null,
   "id": "b7d00cb2",
   "metadata": {},
   "outputs": [],
   "source": [
    "x = 7\n",
    "y = 10\n",
    "\n",
    "# Comparison operators\n",
    "is_x_less_than_y = x < y  # True\n",
    "is_y_equal_to_10 = y == 10  # True\n",
    "\n",
    "# Logical operators\n",
    "is_x_between_5_and_15 = (x > 5) and (x < 15)  # True\n",
    "is_y_10_or_greater = y >= 10 or y < 5  # True\n",
    "is_not_equal_to_7 = not (x == 7)  # False\n",
    "\n",
    "print(is_x_less_than_y)\n",
    "print(is_x_between_5_and_15)"
   ]
  },
  {
   "cell_type": "code",
   "execution_count": null,
   "id": "24bebcdc-7fb7-40c7-ad57-3d0aafa1a0ff",
   "metadata": {},
   "outputs": [],
   "source": [
    "x, y = 8, 15  # Assign vairables\n",
    "\n",
    "is_x_less_than_y = x < y  # true\n",
    "is_x_equal_to_8 = x == 8  # true\n",
    "\n",
    "is_x_between_5_and_15 = (x > 5) and (x < 15)  # true\n",
    "is_y_10_or_greater = y >= 10 or y < 5  # true\n",
    "is_not_equal_to_8 = not (x == 8)  # false\n",
    "\n",
    "print(is_x_less_than_y)\n",
    "print(is_x_between_5_and_15)"
   ]
  },
  {
   "attachments": {},
   "cell_type": "markdown",
   "id": "1f216769-85b8-4d13-bfc0-6f9491d94196",
   "metadata": {},
   "source": [
    "## 5. Getting Help in Python\n",
    "\n",
    "\n",
    "Python provides built-in functions to get help and explore the capabilities of objects.\n",
    "Task:\n",
    "\n",
    "\n",
    "    Use the dir() function to list the attributes and methods of an object.\n",
    "    In Jupyter Notebook, use the ? and ?? operators to access the docstring and source code of functions.\n"
   ]
  },
  {
   "cell_type": "code",
   "execution_count": null,
   "id": "be18303b",
   "metadata": {},
   "outputs": [],
   "source": [
    "dir(str)"
   ]
  },
  {
   "cell_type": "code",
   "execution_count": null,
   "id": "718c3c56-0805-4616-9383-76d265f12d81",
   "metadata": {},
   "outputs": [],
   "source": [
    "help(str.lower)"
   ]
  },
  {
   "cell_type": "code",
   "execution_count": null,
   "id": "b509e5de-b897-4bb9-a01f-d538b72625e6",
   "metadata": {},
   "outputs": [],
   "source": [
    "str.lower?"
   ]
  },
  {
   "cell_type": "code",
   "execution_count": null,
   "id": "f14b5cc3-ede2-4abf-a23c-14866705e629",
   "metadata": {},
   "outputs": [],
   "source": [
    "str.lower??"
   ]
  },
  {
   "cell_type": "markdown",
   "id": "c76ab549-fb30-4c56-a83c-f3b61e7a9c55",
   "metadata": {},
   "source": [
    "Additionally, refer to the [Python documentation](https://docs.python.org/3/) for more detailed syntax and usage."
   ]
  },
  {
   "cell_type": "code",
   "execution_count": 1,
   "id": "c3ed5995-828b-40e3-9559-be7f369ff297",
   "metadata": {},
   "outputs": [
    {
     "data": {
      "text/plain": [
       "['__add__',\n",
       " '__class__',\n",
       " '__contains__',\n",
       " '__delattr__',\n",
       " '__dir__',\n",
       " '__doc__',\n",
       " '__eq__',\n",
       " '__format__',\n",
       " '__ge__',\n",
       " '__getattribute__',\n",
       " '__getitem__',\n",
       " '__getnewargs__',\n",
       " '__gt__',\n",
       " '__hash__',\n",
       " '__init__',\n",
       " '__init_subclass__',\n",
       " '__iter__',\n",
       " '__le__',\n",
       " '__len__',\n",
       " '__lt__',\n",
       " '__mod__',\n",
       " '__mul__',\n",
       " '__ne__',\n",
       " '__new__',\n",
       " '__reduce__',\n",
       " '__reduce_ex__',\n",
       " '__repr__',\n",
       " '__rmod__',\n",
       " '__rmul__',\n",
       " '__setattr__',\n",
       " '__sizeof__',\n",
       " '__str__',\n",
       " '__subclasshook__',\n",
       " 'capitalize',\n",
       " 'casefold',\n",
       " 'center',\n",
       " 'count',\n",
       " 'encode',\n",
       " 'endswith',\n",
       " 'expandtabs',\n",
       " 'find',\n",
       " 'format',\n",
       " 'format_map',\n",
       " 'index',\n",
       " 'isalnum',\n",
       " 'isalpha',\n",
       " 'isascii',\n",
       " 'isdecimal',\n",
       " 'isdigit',\n",
       " 'isidentifier',\n",
       " 'islower',\n",
       " 'isnumeric',\n",
       " 'isprintable',\n",
       " 'isspace',\n",
       " 'istitle',\n",
       " 'isupper',\n",
       " 'join',\n",
       " 'ljust',\n",
       " 'lower',\n",
       " 'lstrip',\n",
       " 'maketrans',\n",
       " 'partition',\n",
       " 'removeprefix',\n",
       " 'removesuffix',\n",
       " 'replace',\n",
       " 'rfind',\n",
       " 'rindex',\n",
       " 'rjust',\n",
       " 'rpartition',\n",
       " 'rsplit',\n",
       " 'rstrip',\n",
       " 'split',\n",
       " 'splitlines',\n",
       " 'startswith',\n",
       " 'strip',\n",
       " 'swapcase',\n",
       " 'title',\n",
       " 'translate',\n",
       " 'upper',\n",
       " 'zfill']"
      ]
     },
     "execution_count": 1,
     "metadata": {},
     "output_type": "execute_result"
    }
   ],
   "source": [
    "dir(str)"
   ]
  },
  {
   "cell_type": "code",
   "execution_count": 2,
   "id": "211e5b4c-64d3-4841-b8d7-ad46e68180e7",
   "metadata": {},
   "outputs": [
    {
     "name": "stdout",
     "output_type": "stream",
     "text": [
      "Help on method_descriptor:\n",
      "\n",
      "upper(self, /)\n",
      "    Return a copy of the string converted to uppercase.\n",
      "\n"
     ]
    }
   ],
   "source": [
    "help(str.upper)"
   ]
  },
  {
   "cell_type": "code",
   "execution_count": 3,
   "id": "311e2f6f-cf8b-4411-bd74-efe0ffd998b7",
   "metadata": {},
   "outputs": [
    {
     "data": {
      "text/plain": [
       "\u001b[1;31mSignature:\u001b[0m \u001b[0mstr\u001b[0m\u001b[1;33m.\u001b[0m\u001b[0mupper\u001b[0m\u001b[1;33m(\u001b[0m\u001b[0mself\u001b[0m\u001b[1;33m,\u001b[0m \u001b[1;33m/\u001b[0m\u001b[1;33m)\u001b[0m\u001b[1;33m\u001b[0m\u001b[1;33m\u001b[0m\u001b[0m\n",
       "\u001b[1;31mDocstring:\u001b[0m Return a copy of the string converted to uppercase.\n",
       "\u001b[1;31mType:\u001b[0m      method_descriptor"
      ]
     },
     "metadata": {},
     "output_type": "display_data"
    }
   ],
   "source": [
    "str.upper?"
   ]
  },
  {
   "cell_type": "code",
   "execution_count": 4,
   "id": "9a2823f2-6a04-480e-8a62-4483f7dd4b94",
   "metadata": {},
   "outputs": [
    {
     "data": {
      "text/plain": [
       "\u001b[1;31mSignature:\u001b[0m \u001b[0mstr\u001b[0m\u001b[1;33m.\u001b[0m\u001b[0mupper\u001b[0m\u001b[1;33m(\u001b[0m\u001b[0mself\u001b[0m\u001b[1;33m,\u001b[0m \u001b[1;33m/\u001b[0m\u001b[1;33m)\u001b[0m\u001b[1;33m\u001b[0m\u001b[1;33m\u001b[0m\u001b[0m\n",
       "\u001b[1;31mDocstring:\u001b[0m Return a copy of the string converted to uppercase.\n",
       "\u001b[1;31mType:\u001b[0m      method_descriptor"
      ]
     },
     "metadata": {},
     "output_type": "display_data"
    }
   ],
   "source": [
    "str.upper??"
   ]
  },
  {
   "attachments": {},
   "cell_type": "markdown",
   "id": "97df79b6-cb82-45e6-b35b-238c296caca8",
   "metadata": {},
   "source": [
    "## 6. Managing Error Messages\n",
    "\n",
    "\n",
    "Errors are a natural part of programming. Understanding them is crucial for debugging.\n",
    "Task:\n",
    "\n",
    "\n",
    "    Intentionally create common errors (e.g., NameError, TypeError, SyntaxError).\n",
    "    Examine the error messages, noting the order of information presented.\n",
    "    Identify the type of error and common causes.\n",
    "    Fix the errors.\n"
   ]
  },
  {
   "cell_type": "code",
   "execution_count": 7,
   "id": "97764dda",
   "metadata": {},
   "outputs": [
    {
     "ename": "NameError",
     "evalue": "name 'undefined_variable' is not defined",
     "output_type": "error",
     "traceback": [
      "\u001b[1;31m---------------------------------------------------------------------------\u001b[0m",
      "\u001b[1;31mNameError\u001b[0m                                 Traceback (most recent call last)",
      "Cell \u001b[1;32mIn[7], line 2\u001b[0m\n\u001b[0;32m      1\u001b[0m \u001b[38;5;66;03m# NameError\u001b[39;00m\n\u001b[1;32m----> 2\u001b[0m \u001b[38;5;28mprint\u001b[39m(\u001b[43mundefined_variable\u001b[49m)\n",
      "\u001b[1;31mNameError\u001b[0m: name 'undefined_variable' is not defined"
     ]
    }
   ],
   "source": [
    "# NameError\n",
    "print(undefined_variable)"
   ]
  },
  {
   "cell_type": "code",
   "execution_count": 5,
   "id": "42c250a3",
   "metadata": {},
   "outputs": [
    {
     "ename": "TypeError",
     "evalue": "can only concatenate str (not \"int\") to str",
     "output_type": "error",
     "traceback": [
      "\u001b[1;31m---------------------------------------------------------------------------\u001b[0m",
      "\u001b[1;31mTypeError\u001b[0m                                 Traceback (most recent call last)",
      "Cell \u001b[1;32mIn[5], line 2\u001b[0m\n\u001b[0;32m      1\u001b[0m \u001b[38;5;66;03m# TypeError\u001b[39;00m\n\u001b[1;32m----> 2\u001b[0m result \u001b[38;5;241m=\u001b[39m \u001b[38;5;124;43m\"\u001b[39;49m\u001b[38;5;124;43mstring\u001b[39;49m\u001b[38;5;124;43m\"\u001b[39;49m\u001b[43m \u001b[49m\u001b[38;5;241;43m+\u001b[39;49m\u001b[43m \u001b[49m\u001b[38;5;241;43m5\u001b[39;49m\n",
      "\u001b[1;31mTypeError\u001b[0m: can only concatenate str (not \"int\") to str"
     ]
    }
   ],
   "source": [
    "# TypeError\n",
    "result = \"string\" + 5"
   ]
  },
  {
   "cell_type": "code",
   "execution_count": 6,
   "id": "e97e4675",
   "metadata": {},
   "outputs": [
    {
     "ename": "SyntaxError",
     "evalue": "invalid syntax (3688870582.py, line 2)",
     "output_type": "error",
     "traceback": [
      "\u001b[1;36m  Cell \u001b[1;32mIn[6], line 2\u001b[1;36m\u001b[0m\n\u001b[1;33m    if x > y\u001b[0m\n\u001b[1;37m            ^\u001b[0m\n\u001b[1;31mSyntaxError\u001b[0m\u001b[1;31m:\u001b[0m invalid syntax\n"
     ]
    }
   ],
   "source": [
    "# SyntaxError\n",
    "if x > y\n",
    "    print(\"x is greater\")"
   ]
  },
  {
   "cell_type": "code",
   "execution_count": 10,
   "id": "15dbc88e-75b2-4ec4-bbdc-ea9e1649e1a4",
   "metadata": {},
   "outputs": [
    {
     "name": "stdout",
     "output_type": "stream",
     "text": [
      "8\n"
     ]
    }
   ],
   "source": [
    "#NameError\n",
    "a = 8       # Assign variable\n",
    "print(a)"
   ]
  },
  {
   "cell_type": "code",
   "execution_count": 1,
   "id": "1d8bf877-d882-4001-9a8a-7fd79c77012a",
   "metadata": {},
   "outputs": [],
   "source": [
    "# TypeError\n",
    "total = 14 + 10"
   ]
  },
  {
   "cell_type": "code",
   "execution_count": 10,
   "id": "5e2ce018-b11b-4d49-8c91-c954ac76f02e",
   "metadata": {},
   "outputs": [
    {
     "name": "stdout",
     "output_type": "stream",
     "text": [
      "x is greater\n"
     ]
    }
   ],
   "source": [
    "# SyntaxError\n",
    "x, y = 10, 4\n",
    "if x > y:\n",
    "    print(\"x is greater\")"
   ]
  },
  {
   "attachments": {},
   "cell_type": "markdown",
   "id": "dca8b82e-44d5-4caa-a613-cbeaf0011c2c",
   "metadata": {},
   "source": [
    "## 7. Lists, tuples, and dictionaries: [], (), and {}\n",
    "\n",
    "\n",
    "Python uses different brackets for various purposes:\n",
    "\n",
    "\n",
    "    []: Used for lists, indexing, and slicing.\n",
    "    (): Used for tuples, function calls, and expressions.\n",
    "    {}: Used for dictionaries and string formatting.\n",
    "\n",
    "\n",
    "Task:\n",
    "\n",
    "\n",
    "    Create a dictionary, tuple, and list.\n",
    "    Access elements and perform operations on them.\n",
    "\n",
    "\n",
    "Note:\n",
    "    Python starts indexing at 0, so the first element of a list 'my_list' would be mylist(0)\n"
   ]
  },
  {
   "cell_type": "code",
   "execution_count": null,
   "id": "9865a8b0",
   "metadata": {},
   "outputs": [],
   "source": [
    "# Dictionary\n",
    "my_dict = {\"name\": \"Python\", \"version\": 3.9}\n",
    "\n",
    "# Tuple\n",
    "my_tuple = (1, 2, 3)\n",
    "\n",
    "# List\n",
    "my_list = [1, 2, 3, 4, 5]\n",
    "\n",
    "# Accessing elements\n",
    "print(my_dict[\"name\"])\n",
    "print(my_tuple[0])\n",
    "print(my_list[2:4])"
   ]
  },
  {
   "cell_type": "code",
   "execution_count": 12,
   "id": "c6314c79-b05b-41cb-a0d2-d2f8ef0f2a5c",
   "metadata": {},
   "outputs": [
    {
     "name": "stdout",
     "output_type": "stream",
     "text": [
      "alpha\n",
      "3.14159\n",
      "[3, 6, 15]\n"
     ]
    }
   ],
   "source": [
    "# Dictionary\n",
    "first_dictionary = {\"1\": \"alpha\", \"2\": \"beta\", \"3\": \"gamma\"}\n",
    "\n",
    "# Tuple\n",
    "first_tuple = (2, 5, 3.14159)\n",
    "\n",
    "# List\n",
    "first_list = [2, 3, 6, 15]\n",
    "\n",
    "# Access elements\n",
    "print(first_dictionary[\"1\"])\n",
    "print(first_tuple[2])\n",
    "print(first_list[1:4])"
   ]
  },
  {
   "attachments": {},
   "cell_type": "markdown",
   "id": "a5c61665-ccf6-4084-ab5a-93d4e99f36ff",
   "metadata": {},
   "source": [
    "## Assignment: Creating a Conversion Dictionary\n",
    "\n",
    "\n",
    "Objective:\n",
    "The goal of this assignment is to create a simple Python dictionary that stores conversion factors between different descriptors of waves  and a Boolean flag indicating whether the relationship between the units is an inverse relationship.\n",
    "\n",
    "\n",
    "**Part 0: Basic equations being used**\n",
    "\n",
    "\n",
    "The relationship between a waves characteristic length (or inverse length) and its frequency (or period) is called a dispersion relation. This can also be extended to energy quantities.\n",
    "\n",
    "For light in vacuum, some common ways of expressing this dispersion relation are:\n",
    "\n",
    "\n",
    "   * $f = c/\\lambda$ : the linear frequency is related to the wavelength, $\\lambda$, by the speed of light, $c$.\n",
    "\n",
    "   * $\\omega = c k$ : the angular frequency is related to the angular wavevector/wavenumber, $k$, by the speed of light. \n",
    "\n",
    "   * $\\lambda/T = c$ : here $T$ is the period.  \n",
    "\n",
    "   * $E = h f = \\hbar \\omega = \\hbar c k $ : here $h$ is Planck's constant and $\\hbar$ is the reduced Planck's constant.  \n",
    "\n",
    "   * $k = 2 \\pi \\nu$ : $\\nu$ is the linear wavenumber.\n",
    "\n",
    "\n",
    "**Check the units to help you remember these dispersion relations.**\n"
   ]
  },
  {
   "cell_type": "markdown",
   "id": "0d1abeed-edbf-4db8-af1b-40ca2971206a",
   "metadata": {},
   "source": [
    "**Part 1: Understanding the Units**\n",
    "\n",
    "\n",
    "1. Units to Consider:\n",
    "\n",
    "\n",
    "    THz: terahertz (Frequency)\n",
    "    ps: picoseconds (Period)\n",
    "    cm⁻¹: inverse centimeters (Wavenumber)\n",
    "    nm: nanometers (Wavelength)\n",
    "    meV: millielectronvolts (energy) \n"
   ]
  },
  {
   "cell_type": "markdown",
   "id": "c4f72d23-8972-4b1e-9a8f-b5fd0326e896",
   "metadata": {},
   "source": [
    "**Part 2: Conversion Relationships and Factors**\n",
    "\n",
    "\n",
    "2. Conversion Relationships: Use the dispersion relations to find how the various units are related\n",
    "\n",
    "\n",
    "    Linear Frequency to Period (THz to ps): Inverse relationship: $T = 1/f$  \n",
    "    Angular Frequency to Wavenumber (THz to cm⁻¹): Direct relationship: $k = \\omega/c$  \n",
    "    Linear Frequency to Wavelength (THz to nm): Inverse relationship: $\\lambda = c/f$"
   ]
  },
  {
   "cell_type": "markdown",
   "id": "201039a0-6425-4a1a-be69-ad783942da17",
   "metadata": {},
   "source": [
    "**Part 3: Creating the Dictionary**\n",
    "\n",
    "\n",
    "3. Dictionary Construction:\n",
    "\n",
    "\n",
    "Your task is to create a Python dictionary that includes the following, for the units described above:\n",
    "\n",
    "\n",
    "    A tuple as the key, representing the units to convert between (e.g., (\"THz\", \"ps\")).\n",
    "    A value that is another tuple containing:\n",
    "        The conversion factor (a number).\n",
    "        A Boolean True or False indicating whether the conversion is inverse."
   ]
  },
  {
   "cell_type": "code",
   "execution_count": 13,
   "id": "06ff7cbc",
   "metadata": {},
   "outputs": [
    {
     "name": "stdout",
     "output_type": "stream",
     "text": [
      "Conversion factor: 1\n",
      "Is inverse relationship: True\n"
     ]
    }
   ],
   "source": [
    "# Conversion factors and inverse relationship flag\n",
    "conversion_factors = {\n",
    "    (\"THz\", \"ps\"): (1, True),                # Linear Frequency to Period (inverse; T=1/f)\n",
    "    (\"ps\", \"THz\"): (1, True),                # Period to Linear Frequency (inverse; f=1/T)\n",
    "    (\"THz\", \"cm-1\"): (33.356, False)         # Linear Frequency to Linear Wavenumber (k = f/c)\n",
    "}\n",
    "\n",
    "# Example of how to access the dictionary\n",
    "# Let's say we want to convert from THz to ps\n",
    "conversion_key = (\"THz\", \"ps\")\n",
    "\n",
    "if conversion_key in conversion_factors:\n",
    "    factor, is_inverse = conversion_factors[conversion_key]\n",
    "    print(f\"Conversion factor: {factor}\")\n",
    "    print(f\"Is inverse relationship: {is_inverse}\")\n",
    "else:\n",
    "    print(\"Conversion not supported.\")"
   ]
  },
  {
   "cell_type": "code",
   "execution_count": 16,
   "id": "ba2ab269-de39-4850-a30c-2654f36d8fc7",
   "metadata": {},
   "outputs": [
    {
     "name": "stdout",
     "output_type": "stream",
     "text": [
      "Conversion factor: 300000\n",
      "Is inverse relationship: True\n"
     ]
    }
   ],
   "source": [
    "# Conversion factors and inverse relationship flag\n",
    "conversion_factors = {\n",
    "    (\"THz\", \"ps\"): (1, True),                # Linear Frequency to Period (inverse; T=1/f)\n",
    "    (\"ps\", \"THz\"): (1, True),                # Period to Linear Frequency (inverse; f=1/T)\n",
    "    (\"THz\", \"cm-1\"): (33.356, False),        # Linear Frequency to Linear Wavenumber (k = f/c)\n",
    "    (\"THz\", \"cm\"): (0.03, True),             # Linear Frequency to Wavelength (inverse; lambda = c/f)\n",
    "    (\"cm\", \"THz\"): (0.03, True),             # Wavelength to Linear Frequency (invers; f = c/lambda)\n",
    "    (\"THz\", \"um\"): (300, True),              # Linear Frequency to Wavelength (inverse; lambda = c/f) um = micrometers\n",
    "    (\"um\", \"THz\"): (300, True),              # Wavelength to Linear Frequency (invers; f = c/lambda) um = micrometers\n",
    "    (\"THz\", \"nm\"): (300000, True),           # Linear Frequency to Wavelength (inverse; lambda = c/f)\n",
    "    (\"nm\", \"THz\"): (300000, True),           # Wavelength to Linear Frequency (invers; f = c/lambda)\n",
    "}\n",
    "\n",
    "# Example of how to access the dictionary\n",
    "# Let's say we want to convert from THz to nm\n",
    "conversion_key = (\"THz\", \"nm\")\n",
    "\n",
    "if conversion_key in conversion_factors:\n",
    "    factor, is_inverse = conversion_factors[conversion_key]\n",
    "    print(f\"Conversion factor: {factor}\")\n",
    "    print(f\"Is inverse relationship: {is_inverse}\")\n",
    "else:\n",
    "    print(\"Conversion not supported.\")"
   ]
  }
 ],
 "metadata": {
  "kernelspec": {
   "display_name": "Python 3 (ipykernel)",
   "language": "python",
   "name": "python3"
  },
  "language_info": {
   "codemirror_mode": {
    "name": "ipython",
    "version": 3
   },
   "file_extension": ".py",
   "mimetype": "text/x-python",
   "name": "python",
   "nbconvert_exporter": "python",
   "pygments_lexer": "ipython3",
   "version": "3.9.19"
  }
 },
 "nbformat": 4,
 "nbformat_minor": 5
}
